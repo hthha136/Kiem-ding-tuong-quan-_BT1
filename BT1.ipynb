{
  "nbformat": 4,
  "nbformat_minor": 0,
  "metadata": {
    "colab": {
      "provenance": []
    },
    "kernelspec": {
      "name": "python3",
      "display_name": "Python 3"
    },
    "language_info": {
      "name": "python"
    }
  },
  "cells": [
    {
      "cell_type": "code",
      "execution_count": null,
      "metadata": {
        "id": "Nt8zjNHBVGLZ"
      },
      "outputs": [],
      "source": [
        "import numpy as np\n",
        "import pandas as pd\n",
        "import matplotlib.pyplot as plt\n",
        "import seaborn as sns\n",
        "import statsmodels.api as sm\n",
        "from scipy import stats"
      ]
    },
    {
      "cell_type": "code",
      "source": [
        "%cd '/content/drive/MyDrive/ML-DL/CodeGym'\n",
        "!ls"
      ],
      "metadata": {
        "colab": {
          "base_uri": "https://localhost:8080/"
        },
        "id": "_d86OBh66SRw",
        "outputId": "d241f5c5-73d3-423d-aa86-6d9aa1d59bdc"
      },
      "execution_count": null,
      "outputs": [
        {
          "output_type": "stream",
          "name": "stdout",
          "text": [
            "/content/drive/MyDrive/ML-DL/CodeGym\n",
            "Credit_Scoring.csv\t\t\t  Untitled11.ipynb  Untitled3.ipynb\n",
            "GDPlist.csv\t\t\t\t  Untitled12.ipynb  Untitled4.ipynb\n",
            "house_price_Dống-Da_Hà-Nội_subdata.csv\t  Untitled13.ipynb  Untitled5.ipynb\n",
            "OnlineRetail.csv\t\t\t  Untitled14.ipynb  Untitled6.ipynb\n",
            "shopeep_koreantop_clothing_shop_data.csv  Untitled15.ipynb  Untitled7.ipynb\n",
            "Untitled0.ipynb\t\t\t\t  Untitled1.ipynb   Untitled8.ipynb\n",
            "Untitled10.ipynb\t\t\t  Untitled2.ipynb   Untitled9.ipynb\n"
          ]
        }
      ]
    },
    {
      "cell_type": "code",
      "source": [
        "df = pd.read_csv('house_price_Dống-Da_Hà-Nội_subdata.csv', encoding=\"latin1\")\n",
        "df.head(3)"
      ],
      "metadata": {
        "colab": {
          "base_uri": "https://localhost:8080/",
          "height": 143
        },
        "id": "6Pj8ohgp6WgS",
        "outputId": "9b50e058-22d8-4794-cf89-a3c9d73f634c"
      },
      "execution_count": null,
      "outputs": [
        {
          "output_type": "execute_result",
          "data": {
            "text/plain": [
              "   area    price  postDate land_certificate house_direction balcony_direction  \\\n",
              "0  50.0  14700.0     44197            So do             NaN               NaN   \n",
              "1  57.0   4200.0     44265            So do             Nam               Nam   \n",
              "2  62.0  11000.0     44268            So do             NaN          dong-Nam   \n",
              "\n",
              "   toilet  bedroom  floor        lat        long property_type  \n",
              "0     4.0      6.0    6.0  21.015698  105.824583     trong ngo  \n",
              "1     3.0      8.0    4.0  21.025208  105.833111     trong ngo  \n",
              "2     6.0      5.0    6.0  21.025379  105.801011     trong ngo  "
            ],
            "text/html": [
              "\n",
              "  <div id=\"df-6188244f-7247-450c-bca5-ece71d55b982\">\n",
              "    <div class=\"colab-df-container\">\n",
              "      <div>\n",
              "<style scoped>\n",
              "    .dataframe tbody tr th:only-of-type {\n",
              "        vertical-align: middle;\n",
              "    }\n",
              "\n",
              "    .dataframe tbody tr th {\n",
              "        vertical-align: top;\n",
              "    }\n",
              "\n",
              "    .dataframe thead th {\n",
              "        text-align: right;\n",
              "    }\n",
              "</style>\n",
              "<table border=\"1\" class=\"dataframe\">\n",
              "  <thead>\n",
              "    <tr style=\"text-align: right;\">\n",
              "      <th></th>\n",
              "      <th>area</th>\n",
              "      <th>price</th>\n",
              "      <th>postDate</th>\n",
              "      <th>land_certificate</th>\n",
              "      <th>house_direction</th>\n",
              "      <th>balcony_direction</th>\n",
              "      <th>toilet</th>\n",
              "      <th>bedroom</th>\n",
              "      <th>floor</th>\n",
              "      <th>lat</th>\n",
              "      <th>long</th>\n",
              "      <th>property_type</th>\n",
              "    </tr>\n",
              "  </thead>\n",
              "  <tbody>\n",
              "    <tr>\n",
              "      <th>0</th>\n",
              "      <td>50.0</td>\n",
              "      <td>14700.0</td>\n",
              "      <td>44197</td>\n",
              "      <td>So do</td>\n",
              "      <td>NaN</td>\n",
              "      <td>NaN</td>\n",
              "      <td>4.0</td>\n",
              "      <td>6.0</td>\n",
              "      <td>6.0</td>\n",
              "      <td>21.015698</td>\n",
              "      <td>105.824583</td>\n",
              "      <td>trong ngo</td>\n",
              "    </tr>\n",
              "    <tr>\n",
              "      <th>1</th>\n",
              "      <td>57.0</td>\n",
              "      <td>4200.0</td>\n",
              "      <td>44265</td>\n",
              "      <td>So do</td>\n",
              "      <td>Nam</td>\n",
              "      <td>Nam</td>\n",
              "      <td>3.0</td>\n",
              "      <td>8.0</td>\n",
              "      <td>4.0</td>\n",
              "      <td>21.025208</td>\n",
              "      <td>105.833111</td>\n",
              "      <td>trong ngo</td>\n",
              "    </tr>\n",
              "    <tr>\n",
              "      <th>2</th>\n",
              "      <td>62.0</td>\n",
              "      <td>11000.0</td>\n",
              "      <td>44268</td>\n",
              "      <td>So do</td>\n",
              "      <td>NaN</td>\n",
              "      <td>dong-Nam</td>\n",
              "      <td>6.0</td>\n",
              "      <td>5.0</td>\n",
              "      <td>6.0</td>\n",
              "      <td>21.025379</td>\n",
              "      <td>105.801011</td>\n",
              "      <td>trong ngo</td>\n",
              "    </tr>\n",
              "  </tbody>\n",
              "</table>\n",
              "</div>\n",
              "      <button class=\"colab-df-convert\" onclick=\"convertToInteractive('df-6188244f-7247-450c-bca5-ece71d55b982')\"\n",
              "              title=\"Convert this dataframe to an interactive table.\"\n",
              "              style=\"display:none;\">\n",
              "        \n",
              "  <svg xmlns=\"http://www.w3.org/2000/svg\" height=\"24px\"viewBox=\"0 0 24 24\"\n",
              "       width=\"24px\">\n",
              "    <path d=\"M0 0h24v24H0V0z\" fill=\"none\"/>\n",
              "    <path d=\"M18.56 5.44l.94 2.06.94-2.06 2.06-.94-2.06-.94-.94-2.06-.94 2.06-2.06.94zm-11 1L8.5 8.5l.94-2.06 2.06-.94-2.06-.94L8.5 2.5l-.94 2.06-2.06.94zm10 10l.94 2.06.94-2.06 2.06-.94-2.06-.94-.94-2.06-.94 2.06-2.06.94z\"/><path d=\"M17.41 7.96l-1.37-1.37c-.4-.4-.92-.59-1.43-.59-.52 0-1.04.2-1.43.59L10.3 9.45l-7.72 7.72c-.78.78-.78 2.05 0 2.83L4 21.41c.39.39.9.59 1.41.59.51 0 1.02-.2 1.41-.59l7.78-7.78 2.81-2.81c.8-.78.8-2.07 0-2.86zM5.41 20L4 18.59l7.72-7.72 1.47 1.35L5.41 20z\"/>\n",
              "  </svg>\n",
              "      </button>\n",
              "      \n",
              "  <style>\n",
              "    .colab-df-container {\n",
              "      display:flex;\n",
              "      flex-wrap:wrap;\n",
              "      gap: 12px;\n",
              "    }\n",
              "\n",
              "    .colab-df-convert {\n",
              "      background-color: #E8F0FE;\n",
              "      border: none;\n",
              "      border-radius: 50%;\n",
              "      cursor: pointer;\n",
              "      display: none;\n",
              "      fill: #1967D2;\n",
              "      height: 32px;\n",
              "      padding: 0 0 0 0;\n",
              "      width: 32px;\n",
              "    }\n",
              "\n",
              "    .colab-df-convert:hover {\n",
              "      background-color: #E2EBFA;\n",
              "      box-shadow: 0px 1px 2px rgba(60, 64, 67, 0.3), 0px 1px 3px 1px rgba(60, 64, 67, 0.15);\n",
              "      fill: #174EA6;\n",
              "    }\n",
              "\n",
              "    [theme=dark] .colab-df-convert {\n",
              "      background-color: #3B4455;\n",
              "      fill: #D2E3FC;\n",
              "    }\n",
              "\n",
              "    [theme=dark] .colab-df-convert:hover {\n",
              "      background-color: #434B5C;\n",
              "      box-shadow: 0px 1px 3px 1px rgba(0, 0, 0, 0.15);\n",
              "      filter: drop-shadow(0px 1px 2px rgba(0, 0, 0, 0.3));\n",
              "      fill: #FFFFFF;\n",
              "    }\n",
              "  </style>\n",
              "\n",
              "      <script>\n",
              "        const buttonEl =\n",
              "          document.querySelector('#df-6188244f-7247-450c-bca5-ece71d55b982 button.colab-df-convert');\n",
              "        buttonEl.style.display =\n",
              "          google.colab.kernel.accessAllowed ? 'block' : 'none';\n",
              "\n",
              "        async function convertToInteractive(key) {\n",
              "          const element = document.querySelector('#df-6188244f-7247-450c-bca5-ece71d55b982');\n",
              "          const dataTable =\n",
              "            await google.colab.kernel.invokeFunction('convertToInteractive',\n",
              "                                                     [key], {});\n",
              "          if (!dataTable) return;\n",
              "\n",
              "          const docLinkHtml = 'Like what you see? Visit the ' +\n",
              "            '<a target=\"_blank\" href=https://colab.research.google.com/notebooks/data_table.ipynb>data table notebook</a>'\n",
              "            + ' to learn more about interactive tables.';\n",
              "          element.innerHTML = '';\n",
              "          dataTable['output_type'] = 'display_data';\n",
              "          await google.colab.output.renderOutput(dataTable, element);\n",
              "          const docLink = document.createElement('div');\n",
              "          docLink.innerHTML = docLinkHtml;\n",
              "          element.appendChild(docLink);\n",
              "        }\n",
              "      </script>\n",
              "    </div>\n",
              "  </div>\n",
              "  "
            ]
          },
          "metadata": {},
          "execution_count": 3
        }
      ]
    },
    {
      "cell_type": "code",
      "source": [
        "df.isnull().sum()"
      ],
      "metadata": {
        "colab": {
          "base_uri": "https://localhost:8080/"
        },
        "id": "ZlxyrAcS6Zd0",
        "outputId": "a4bb0e3b-e484-457a-f3b3-e1c76d9e62c7"
      },
      "execution_count": null,
      "outputs": [
        {
          "output_type": "execute_result",
          "data": {
            "text/plain": [
              "area                   6\n",
              "price                 54\n",
              "postDate               0\n",
              "land_certificate     302\n",
              "house_direction      629\n",
              "balcony_direction    647\n",
              "toilet               431\n",
              "bedroom              351\n",
              "floor                305\n",
              "lat                    0\n",
              "long                   0\n",
              "property_type          0\n",
              "dtype: int64"
            ]
          },
          "metadata": {},
          "execution_count": 4
        }
      ]
    },
    {
      "cell_type": "code",
      "source": [
        "df['land_certificate'] = df['land_certificate'].fillna(\"no information\")"
      ],
      "metadata": {
        "id": "1y-WFiFH6cA0"
      },
      "execution_count": null,
      "outputs": []
    },
    {
      "cell_type": "code",
      "source": [
        "df['area'].value_counts()"
      ],
      "metadata": {
        "colab": {
          "base_uri": "https://localhost:8080/"
        },
        "id": "x6ni68MZ6e9V",
        "outputId": "62d24870-7e4e-463f-dfa5-4fff54fe0848"
      },
      "execution_count": null,
      "outputs": [
        {
          "output_type": "execute_result",
          "data": {
            "text/plain": [
              "0.0      41\n",
              "35.0     34\n",
              "45.0     33\n",
              "55.0     31\n",
              "50.0     27\n",
              "         ..\n",
              "365.0     1\n",
              "78.8      1\n",
              "158.0     1\n",
              "22.0      1\n",
              "107.0     1\n",
              "Name: area, Length: 127, dtype: int64"
            ]
          },
          "metadata": {},
          "execution_count": 6
        }
      ]
    },
    {
      "cell_type": "code",
      "source": [
        "df['area'] = df['area'].fillna(0.0)"
      ],
      "metadata": {
        "id": "87HY2AX56hUu"
      },
      "execution_count": null,
      "outputs": []
    },
    {
      "cell_type": "code",
      "source": [
        "df['house_direction'].value_counts()"
      ],
      "metadata": {
        "colab": {
          "base_uri": "https://localhost:8080/"
        },
        "id": "C7ZhK9o66jra",
        "outputId": "e0edfd27-caf4-4847-f05f-d64b73b03630"
      },
      "execution_count": null,
      "outputs": [
        {
          "output_type": "execute_result",
          "data": {
            "text/plain": [
              "dong-Nam    17\n",
              "Tay-Nam      8\n",
              "Tay-Bac      6\n",
              "dong-Bac     4\n",
              "Nam          3\n",
              "dong         3\n",
              "Bac          1\n",
              "Name: house_direction, dtype: int64"
            ]
          },
          "metadata": {},
          "execution_count": 8
        }
      ]
    },
    {
      "cell_type": "code",
      "source": [
        "df['house_direction'] = df['house_direction'].fillna('dong-Nam')"
      ],
      "metadata": {
        "id": "vzQr15yq6l1P"
      },
      "execution_count": null,
      "outputs": []
    },
    {
      "cell_type": "code",
      "source": [
        "df['balcony_direction'].value_counts()"
      ],
      "metadata": {
        "colab": {
          "base_uri": "https://localhost:8080/"
        },
        "id": "93HP1WWh6oFW",
        "outputId": "88c18d87-e6c9-4ba5-e46e-a3bb47277e70"
      },
      "execution_count": null,
      "outputs": [
        {
          "output_type": "execute_result",
          "data": {
            "text/plain": [
              "dong-Nam    11\n",
              "Tay-Nam      4\n",
              "Tay-Bac      3\n",
              "Nam          2\n",
              "dong         2\n",
              "Bac          1\n",
              "dong-Bac     1\n",
              "Name: balcony_direction, dtype: int64"
            ]
          },
          "metadata": {},
          "execution_count": 10
        }
      ]
    },
    {
      "cell_type": "code",
      "source": [
        "df['balcony_direction'] = df['balcony_direction'].fillna('dong-Nam')"
      ],
      "metadata": {
        "id": "xuRlx-t76rOv"
      },
      "execution_count": null,
      "outputs": []
    },
    {
      "cell_type": "code",
      "source": [
        "df['toilet'].value_counts()"
      ],
      "metadata": {
        "colab": {
          "base_uri": "https://localhost:8080/"
        },
        "id": "XnH2LWyw6th8",
        "outputId": "50c6da3a-072e-418b-e0ae-d43a64c0ba98"
      },
      "execution_count": null,
      "outputs": [
        {
          "output_type": "execute_result",
          "data": {
            "text/plain": [
              "4.0     65\n",
              "1.0     55\n",
              "3.0     37\n",
              "2.0     23\n",
              "5.0     21\n",
              "6.0     15\n",
              "7.0     10\n",
              "8.0      7\n",
              "10.0     2\n",
              "12.0     2\n",
              "11.0     2\n",
              "16.0     1\n",
              "Name: toilet, dtype: int64"
            ]
          },
          "metadata": {},
          "execution_count": 12
        }
      ]
    },
    {
      "cell_type": "code",
      "source": [
        "df['toilet'] = df['toilet'].fillna(4.0)"
      ],
      "metadata": {
        "id": "T7J1_Xow6vXT"
      },
      "execution_count": null,
      "outputs": []
    },
    {
      "cell_type": "code",
      "source": [
        "df['bedroom'].value_counts()"
      ],
      "metadata": {
        "colab": {
          "base_uri": "https://localhost:8080/"
        },
        "id": "SUrA3a2Y6xjG",
        "outputId": "0be765a5-9584-4de7-ee9f-68d74bebc157"
      },
      "execution_count": null,
      "outputs": [
        {
          "output_type": "execute_result",
          "data": {
            "text/plain": [
              "3.0     75\n",
              "4.0     56\n",
              "6.0     49\n",
              "2.0     46\n",
              "5.0     29\n",
              "1.0     25\n",
              "8.0     14\n",
              "10.0    10\n",
              "7.0      6\n",
              "9.0      3\n",
              "14.0     2\n",
              "12.0     2\n",
              "11.0     2\n",
              "22.0     1\n",
              "Name: bedroom, dtype: int64"
            ]
          },
          "metadata": {},
          "execution_count": 14
        }
      ]
    },
    {
      "cell_type": "code",
      "source": [
        "df['bedroom'] = df['bedroom'].fillna(3.0)"
      ],
      "metadata": {
        "id": "MU5xnTKD6zyi"
      },
      "execution_count": null,
      "outputs": []
    },
    {
      "cell_type": "code",
      "source": [
        "df['floor'].value_counts()"
      ],
      "metadata": {
        "colab": {
          "base_uri": "https://localhost:8080/"
        },
        "id": "VPVLNia6616h",
        "outputId": "7a174eec-3edc-440c-fda0-5ff84e1169b6"
      },
      "execution_count": null,
      "outputs": [
        {
          "output_type": "execute_result",
          "data": {
            "text/plain": [
              "5.0     121\n",
              "4.0      97\n",
              "6.0      33\n",
              "3.0      29\n",
              "7.0      28\n",
              "2.0      19\n",
              "8.0      18\n",
              "1.0      13\n",
              "9.0       7\n",
              "11.0      1\n",
              "Name: floor, dtype: int64"
            ]
          },
          "metadata": {},
          "execution_count": 16
        }
      ]
    },
    {
      "cell_type": "code",
      "source": [
        "df['floor'] = df['floor'].fillna(5.0)"
      ],
      "metadata": {
        "id": "vPHp2Bej64MR"
      },
      "execution_count": null,
      "outputs": []
    },
    {
      "cell_type": "code",
      "source": [
        "df.isnull().sum()"
      ],
      "metadata": {
        "colab": {
          "base_uri": "https://localhost:8080/"
        },
        "id": "A6GwuT7q66J2",
        "outputId": "c0c212a7-d541-4d53-e465-95b631843de5"
      },
      "execution_count": null,
      "outputs": [
        {
          "output_type": "execute_result",
          "data": {
            "text/plain": [
              "area                  0\n",
              "price                54\n",
              "postDate              0\n",
              "land_certificate      0\n",
              "house_direction       0\n",
              "balcony_direction     0\n",
              "toilet                0\n",
              "bedroom               0\n",
              "floor                 0\n",
              "lat                   0\n",
              "long                  0\n",
              "property_type         0\n",
              "dtype: int64"
            ]
          },
          "metadata": {},
          "execution_count": 18
        }
      ]
    },
    {
      "cell_type": "code",
      "source": [
        "df = df.dropna()"
      ],
      "metadata": {
        "id": "RsHbk65j68gh"
      },
      "execution_count": null,
      "outputs": []
    },
    {
      "cell_type": "code",
      "source": [
        "df1 = df[(df['area'] > 0)]"
      ],
      "metadata": {
        "id": "A1vHIC816_rJ"
      },
      "execution_count": null,
      "outputs": []
    },
    {
      "cell_type": "code",
      "source": [
        "df1.isnull().sum()"
      ],
      "metadata": {
        "colab": {
          "base_uri": "https://localhost:8080/"
        },
        "id": "CtP9_Sas7B0Z",
        "outputId": "31d586d1-548f-4bb5-a05d-14e6a5f3d8ef"
      },
      "execution_count": null,
      "outputs": [
        {
          "output_type": "execute_result",
          "data": {
            "text/plain": [
              "area                 0\n",
              "price                0\n",
              "postDate             0\n",
              "land_certificate     0\n",
              "house_direction      0\n",
              "balcony_direction    0\n",
              "toilet               0\n",
              "bedroom              0\n",
              "floor                0\n",
              "lat                  0\n",
              "long                 0\n",
              "property_type        0\n",
              "dtype: int64"
            ]
          },
          "metadata": {},
          "execution_count": 21
        }
      ]
    },
    {
      "cell_type": "code",
      "source": [
        "df1['P/A'] = df1['price'] / df1['area']\n",
        "df1.head()"
      ],
      "metadata": {
        "colab": {
          "base_uri": "https://localhost:8080/",
          "height": 310
        },
        "id": "m8rjNZNb7D7F",
        "outputId": "1f22f223-5aa9-4bea-c630-8e71fbd7d8c3"
      },
      "execution_count": null,
      "outputs": [
        {
          "output_type": "stream",
          "name": "stderr",
          "text": [
            "/usr/local/lib/python3.7/dist-packages/ipykernel_launcher.py:1: SettingWithCopyWarning: \n",
            "A value is trying to be set on a copy of a slice from a DataFrame.\n",
            "Try using .loc[row_indexer,col_indexer] = value instead\n",
            "\n",
            "See the caveats in the documentation: https://pandas.pydata.org/pandas-docs/stable/user_guide/indexing.html#returning-a-view-versus-a-copy\n",
            "  \"\"\"Entry point for launching an IPython kernel.\n"
          ]
        },
        {
          "output_type": "execute_result",
          "data": {
            "text/plain": [
              "   area    price  postDate land_certificate house_direction balcony_direction  \\\n",
              "0  50.0  14700.0     44197            So do        dong-Nam          dong-Nam   \n",
              "1  57.0   4200.0     44265            So do             Nam               Nam   \n",
              "2  62.0  11000.0     44268            So do        dong-Nam          dong-Nam   \n",
              "3  26.0   2900.0     44292            So do        dong-Nam          dong-Nam   \n",
              "4  40.0   3950.0     44292            So do        dong-Nam          dong-Nam   \n",
              "\n",
              "   toilet  bedroom  floor        lat        long property_type         P/A  \n",
              "0     4.0      6.0    6.0  21.015698  105.824583     trong ngo  294.000000  \n",
              "1     3.0      8.0    4.0  21.025208  105.833111     trong ngo   73.684211  \n",
              "2     6.0      5.0    6.0  21.025379  105.801011     trong ngo  177.419355  \n",
              "3     4.0      3.0    4.0  21.014325  105.834918     trong ngo  111.538462  \n",
              "4     4.0      3.0    5.0  21.009862  105.838083     trong ngo   98.750000  "
            ],
            "text/html": [
              "\n",
              "  <div id=\"df-a01e8258-6cec-40b0-9cdc-a1d54156c38a\">\n",
              "    <div class=\"colab-df-container\">\n",
              "      <div>\n",
              "<style scoped>\n",
              "    .dataframe tbody tr th:only-of-type {\n",
              "        vertical-align: middle;\n",
              "    }\n",
              "\n",
              "    .dataframe tbody tr th {\n",
              "        vertical-align: top;\n",
              "    }\n",
              "\n",
              "    .dataframe thead th {\n",
              "        text-align: right;\n",
              "    }\n",
              "</style>\n",
              "<table border=\"1\" class=\"dataframe\">\n",
              "  <thead>\n",
              "    <tr style=\"text-align: right;\">\n",
              "      <th></th>\n",
              "      <th>area</th>\n",
              "      <th>price</th>\n",
              "      <th>postDate</th>\n",
              "      <th>land_certificate</th>\n",
              "      <th>house_direction</th>\n",
              "      <th>balcony_direction</th>\n",
              "      <th>toilet</th>\n",
              "      <th>bedroom</th>\n",
              "      <th>floor</th>\n",
              "      <th>lat</th>\n",
              "      <th>long</th>\n",
              "      <th>property_type</th>\n",
              "      <th>P/A</th>\n",
              "    </tr>\n",
              "  </thead>\n",
              "  <tbody>\n",
              "    <tr>\n",
              "      <th>0</th>\n",
              "      <td>50.0</td>\n",
              "      <td>14700.0</td>\n",
              "      <td>44197</td>\n",
              "      <td>So do</td>\n",
              "      <td>dong-Nam</td>\n",
              "      <td>dong-Nam</td>\n",
              "      <td>4.0</td>\n",
              "      <td>6.0</td>\n",
              "      <td>6.0</td>\n",
              "      <td>21.015698</td>\n",
              "      <td>105.824583</td>\n",
              "      <td>trong ngo</td>\n",
              "      <td>294.000000</td>\n",
              "    </tr>\n",
              "    <tr>\n",
              "      <th>1</th>\n",
              "      <td>57.0</td>\n",
              "      <td>4200.0</td>\n",
              "      <td>44265</td>\n",
              "      <td>So do</td>\n",
              "      <td>Nam</td>\n",
              "      <td>Nam</td>\n",
              "      <td>3.0</td>\n",
              "      <td>8.0</td>\n",
              "      <td>4.0</td>\n",
              "      <td>21.025208</td>\n",
              "      <td>105.833111</td>\n",
              "      <td>trong ngo</td>\n",
              "      <td>73.684211</td>\n",
              "    </tr>\n",
              "    <tr>\n",
              "      <th>2</th>\n",
              "      <td>62.0</td>\n",
              "      <td>11000.0</td>\n",
              "      <td>44268</td>\n",
              "      <td>So do</td>\n",
              "      <td>dong-Nam</td>\n",
              "      <td>dong-Nam</td>\n",
              "      <td>6.0</td>\n",
              "      <td>5.0</td>\n",
              "      <td>6.0</td>\n",
              "      <td>21.025379</td>\n",
              "      <td>105.801011</td>\n",
              "      <td>trong ngo</td>\n",
              "      <td>177.419355</td>\n",
              "    </tr>\n",
              "    <tr>\n",
              "      <th>3</th>\n",
              "      <td>26.0</td>\n",
              "      <td>2900.0</td>\n",
              "      <td>44292</td>\n",
              "      <td>So do</td>\n",
              "      <td>dong-Nam</td>\n",
              "      <td>dong-Nam</td>\n",
              "      <td>4.0</td>\n",
              "      <td>3.0</td>\n",
              "      <td>4.0</td>\n",
              "      <td>21.014325</td>\n",
              "      <td>105.834918</td>\n",
              "      <td>trong ngo</td>\n",
              "      <td>111.538462</td>\n",
              "    </tr>\n",
              "    <tr>\n",
              "      <th>4</th>\n",
              "      <td>40.0</td>\n",
              "      <td>3950.0</td>\n",
              "      <td>44292</td>\n",
              "      <td>So do</td>\n",
              "      <td>dong-Nam</td>\n",
              "      <td>dong-Nam</td>\n",
              "      <td>4.0</td>\n",
              "      <td>3.0</td>\n",
              "      <td>5.0</td>\n",
              "      <td>21.009862</td>\n",
              "      <td>105.838083</td>\n",
              "      <td>trong ngo</td>\n",
              "      <td>98.750000</td>\n",
              "    </tr>\n",
              "  </tbody>\n",
              "</table>\n",
              "</div>\n",
              "      <button class=\"colab-df-convert\" onclick=\"convertToInteractive('df-a01e8258-6cec-40b0-9cdc-a1d54156c38a')\"\n",
              "              title=\"Convert this dataframe to an interactive table.\"\n",
              "              style=\"display:none;\">\n",
              "        \n",
              "  <svg xmlns=\"http://www.w3.org/2000/svg\" height=\"24px\"viewBox=\"0 0 24 24\"\n",
              "       width=\"24px\">\n",
              "    <path d=\"M0 0h24v24H0V0z\" fill=\"none\"/>\n",
              "    <path d=\"M18.56 5.44l.94 2.06.94-2.06 2.06-.94-2.06-.94-.94-2.06-.94 2.06-2.06.94zm-11 1L8.5 8.5l.94-2.06 2.06-.94-2.06-.94L8.5 2.5l-.94 2.06-2.06.94zm10 10l.94 2.06.94-2.06 2.06-.94-2.06-.94-.94-2.06-.94 2.06-2.06.94z\"/><path d=\"M17.41 7.96l-1.37-1.37c-.4-.4-.92-.59-1.43-.59-.52 0-1.04.2-1.43.59L10.3 9.45l-7.72 7.72c-.78.78-.78 2.05 0 2.83L4 21.41c.39.39.9.59 1.41.59.51 0 1.02-.2 1.41-.59l7.78-7.78 2.81-2.81c.8-.78.8-2.07 0-2.86zM5.41 20L4 18.59l7.72-7.72 1.47 1.35L5.41 20z\"/>\n",
              "  </svg>\n",
              "      </button>\n",
              "      \n",
              "  <style>\n",
              "    .colab-df-container {\n",
              "      display:flex;\n",
              "      flex-wrap:wrap;\n",
              "      gap: 12px;\n",
              "    }\n",
              "\n",
              "    .colab-df-convert {\n",
              "      background-color: #E8F0FE;\n",
              "      border: none;\n",
              "      border-radius: 50%;\n",
              "      cursor: pointer;\n",
              "      display: none;\n",
              "      fill: #1967D2;\n",
              "      height: 32px;\n",
              "      padding: 0 0 0 0;\n",
              "      width: 32px;\n",
              "    }\n",
              "\n",
              "    .colab-df-convert:hover {\n",
              "      background-color: #E2EBFA;\n",
              "      box-shadow: 0px 1px 2px rgba(60, 64, 67, 0.3), 0px 1px 3px 1px rgba(60, 64, 67, 0.15);\n",
              "      fill: #174EA6;\n",
              "    }\n",
              "\n",
              "    [theme=dark] .colab-df-convert {\n",
              "      background-color: #3B4455;\n",
              "      fill: #D2E3FC;\n",
              "    }\n",
              "\n",
              "    [theme=dark] .colab-df-convert:hover {\n",
              "      background-color: #434B5C;\n",
              "      box-shadow: 0px 1px 3px 1px rgba(0, 0, 0, 0.15);\n",
              "      filter: drop-shadow(0px 1px 2px rgba(0, 0, 0, 0.3));\n",
              "      fill: #FFFFFF;\n",
              "    }\n",
              "  </style>\n",
              "\n",
              "      <script>\n",
              "        const buttonEl =\n",
              "          document.querySelector('#df-a01e8258-6cec-40b0-9cdc-a1d54156c38a button.colab-df-convert');\n",
              "        buttonEl.style.display =\n",
              "          google.colab.kernel.accessAllowed ? 'block' : 'none';\n",
              "\n",
              "        async function convertToInteractive(key) {\n",
              "          const element = document.querySelector('#df-a01e8258-6cec-40b0-9cdc-a1d54156c38a');\n",
              "          const dataTable =\n",
              "            await google.colab.kernel.invokeFunction('convertToInteractive',\n",
              "                                                     [key], {});\n",
              "          if (!dataTable) return;\n",
              "\n",
              "          const docLinkHtml = 'Like what you see? Visit the ' +\n",
              "            '<a target=\"_blank\" href=https://colab.research.google.com/notebooks/data_table.ipynb>data table notebook</a>'\n",
              "            + ' to learn more about interactive tables.';\n",
              "          element.innerHTML = '';\n",
              "          dataTable['output_type'] = 'display_data';\n",
              "          await google.colab.output.renderOutput(dataTable, element);\n",
              "          const docLink = document.createElement('div');\n",
              "          docLink.innerHTML = docLinkHtml;\n",
              "          element.appendChild(docLink);\n",
              "        }\n",
              "      </script>\n",
              "    </div>\n",
              "  </div>\n",
              "  "
            ]
          },
          "metadata": {},
          "execution_count": 22
        }
      ]
    },
    {
      "cell_type": "code",
      "source": [
        "r1, pvalue1 = stats.spearmanr(df1.price, df1.area)\n",
        "print (\"r1: \", r1, \"; pvalue1: \", pvalue1)"
      ],
      "metadata": {
        "colab": {
          "base_uri": "https://localhost:8080/"
        },
        "id": "wDDBRmLn7TUN",
        "outputId": "ecee4e52-fa2a-490c-f38e-9d186035be25"
      },
      "execution_count": null,
      "outputs": [
        {
          "output_type": "stream",
          "name": "stdout",
          "text": [
            "r1:  0.6311695045228876 ; pvalue1:  5.3780432444168414e-68\n"
          ]
        }
      ]
    },
    {
      "cell_type": "markdown",
      "source": [
        "có tương quan"
      ],
      "metadata": {
        "id": "jz2aHdXF7gyS"
      }
    },
    {
      "cell_type": "code",
      "source": [
        "r2, pvalue2 = stats.spearmanr(df1['P/A'], df1.lat)\n",
        "print (\"r2: \", r2, \"; pvalue2: \", pvalue2)"
      ],
      "metadata": {
        "colab": {
          "base_uri": "https://localhost:8080/"
        },
        "id": "ucyDRuQq7iYI",
        "outputId": "2c412d53-2f51-4021-e98e-237c411cc615"
      },
      "execution_count": null,
      "outputs": [
        {
          "output_type": "stream",
          "name": "stdout",
          "text": [
            "r2:  -0.006488580039745132 ; pvalue2:  0.8739782491819232\n"
          ]
        }
      ]
    },
    {
      "cell_type": "markdown",
      "source": [
        "ko tương quan"
      ],
      "metadata": {
        "id": "TzIS6xUA77dY"
      }
    },
    {
      "cell_type": "code",
      "source": [
        "r3, pvalue3 = stats.spearmanr(df1['P/A'], df1.long)\n",
        "print (\"r3: \", r3, \"; pvalue3: \", pvalue3)"
      ],
      "metadata": {
        "colab": {
          "base_uri": "https://localhost:8080/"
        },
        "id": "ryKNiRFo78vv",
        "outputId": "a328a209-1d70-4154-bfc5-d20fe17d0837"
      },
      "execution_count": null,
      "outputs": [
        {
          "output_type": "stream",
          "name": "stdout",
          "text": [
            "r3:  -0.19927837945806187 ; pvalue3:  8.629669420042273e-07\n"
          ]
        }
      ]
    },
    {
      "cell_type": "markdown",
      "source": [
        "tương quan nhẹ"
      ],
      "metadata": {
        "id": "fpG7hKK78JxE"
      }
    }
  ]
}